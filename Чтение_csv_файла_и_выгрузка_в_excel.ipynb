{
  "nbformat": 4,
  "nbformat_minor": 0,
  "metadata": {
    "colab": {
      "provenance": [],
      "name": "Чтение csv файла и выгрузка в excel.ipynb"
    },
    "kernelspec": {
      "name": "python3",
      "display_name": "Python 3"
    },
    "language_info": {
      "name": "python"
    }
  },
  "cells": [
    {
      "cell_type": "code",
      "execution_count": null,
      "metadata": {
        "id": "1QB2dz8ivxWI"
      },
      "outputs": [],
      "source": [
        "# загрузим нужные библиотеки\n",
        "import pandas as pd"
      ]
    },
    {
      "cell_type": "code",
      "source": [
        "# создадим датафрейм, загрузив csv файл\n",
        "df = pd.read_csv('business_unit_202401261045.csv', header=0)\n",
        "df"
      ],
      "metadata": {
        "id": "9WFHYLNVw8qC"
      },
      "execution_count": null,
      "outputs": []
    },
    {
      "cell_type": "code",
      "source": [
        "# заменим значения NaN на 1, для удобства конвертации\n",
        "df.a_id = df.a_id.fillna('1')\n",
        "df.t_id = df.t_id.fillna('1')\n",
        "\n",
        "# определим целочисленный формат значений для указанных ниже столбцов\n",
        "df = df.astype({'code':\"int\", 'number':\"int\"}, errors = \"ignore\")\n",
        "\n",
        "# проверим информацию по датасету, убедимся, что все признаки в нужных нам форматах\n",
        "df.info()"
      ],
      "metadata": {
        "id": "eVnvxQjMzz8N",
        "colab": {
          "base_uri": "https://localhost:8080/"
        },
        "outputId": "5a24e36c-8536-4102-f05d-8e046874b036"
      },
      "execution_count": null,
      "outputs": [
        {
          "output_type": "stream",
          "name": "stdout",
          "text": [
            "<class 'pandas.core.frame.DataFrame'>\n",
            "RangeIndex: 3977 entries, 0 to 3976\n",
            "Data columns (total 27 columns):\n",
            " #   Column                  Non-Null Count  Dtype  \n",
            "---  ------                  --------------  -----  \n",
            " 0   uid                     3977 non-null   object \n",
            " 1   name                    0 non-null      float64\n",
            " 2   title                   3707 non-null   object \n",
            " 3   short_title             3963 non-null   object \n",
            " 4   description             0 non-null      float64\n",
            " 5   begin_date              3977 non-null   object \n",
            " 6   end_date                3977 non-null   object \n",
            " 7   table_oid               3977 non-null   int64  \n",
            " 8   row_created_date        3977 non-null   object \n",
            " 9   row_created_by          3974 non-null   object \n",
            " 10  row_modified_date       0 non-null      float64\n",
            " 11  row_modified_by         0 non-null      float64\n",
            " 12  row_deleted_date        0 non-null      float64\n",
            " 13  row_deleted_by          0 non-null      float64\n",
            " 14  row_source              3977 non-null   object \n",
            " 15  row_source_id           0 non-null      float64\n",
            " 16  armits_id               3977 non-null   int64  \n",
            " 17  tnnd_id                 3977 non-null   int64  \n",
            " 18  code                    3975 non-null   float64\n",
            " 19  number                  390 non-null    float64\n",
            " 20  parent_uid              3877 non-null   object \n",
            " 21  business_entity_uid     21 non-null     object \n",
            " 22  business_unit_type_uid  3174 non-null   object \n",
            " 23  business_unit_kind_uid  285 non-null    object \n",
            " 24  reference_id            3977 non-null   int64  \n",
            " 25  is_virtual              3977 non-null   bool   \n",
            " 26  is_license_owner        3977 non-null   bool   \n",
            "dtypes: bool(2), float64(9), int64(4), object(12)\n",
            "memory usage: 784.7+ KB\n"
          ]
        }
      ]
    },
    {
      "cell_type": "code",
      "source": [
        "# сохраним получившийся датафрейм в эксель файл\n",
        "df.to_excel('business_unit.xlsx')"
      ],
      "metadata": {
        "id": "_K7Lo_W_yJG5"
      },
      "execution_count": null,
      "outputs": []
    }
  ]
}